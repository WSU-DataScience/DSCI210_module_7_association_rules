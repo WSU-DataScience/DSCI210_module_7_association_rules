{
 "cells": [
  {
   "cell_type": "markdown",
   "metadata": {},
   "source": [
    "# Lecture 7.3 - Arules in R the `dplyr` way"
   ]
  },
  {
   "cell_type": "markdown",
   "metadata": {},
   "source": [
    "### Review - Association Rules\n",
    "\n",
    "Consider the rule $\\{butter\\} \\rightarrow \\{whole.milk\\}$\n",
    "\n",
    "  * $Support(\\textrm{butter and milk}) = \\frac{\\textrm{# butter and milk transactions}}{\\textrm{# total transactions}}$ \n",
    "  * $Support(\\textrm{butter}) = \\frac{\\textrm{# butter transactions}}{\\textrm{#\n",
    "  total transactions}}$ \n",
    "  * $Confidence= \\frac{Support(\\textrm{butter and milk})}{Support(\\textrm{butter})}$ \n",
    "  * $Lift= \\frac{Confidence}{Support(\\textrm{milk})}$ \n",
    "  "
   ]
  },
  {
   "cell_type": "markdown",
   "metadata": {},
   "source": [
    "### Small example:  Compute the confidence and lift of {bread} -> {milk} \n",
    "\n",
    "\n",
    "<img width=\"350\" src=\"https://github.com/WSU-DataScience/DSCI210_module_7_association_rules/raw/main/img/small_example.png\">\n",
    "\n",
    "Use `dyplr` to:  \n",
    "\n",
    "  * mutate to compute joint transactions \n",
    "  * summarize to compute counts and percents \n",
    "  "
   ]
  },
  {
   "cell_type": "markdown",
   "metadata": {},
   "source": [
    "### New example: investigate rule {butter} -> {milk} with `dplyr`"
   ]
  },
  {
   "cell_type": "code",
   "execution_count": 1,
   "metadata": {},
   "outputs": [
    {
     "name": "stderr",
     "output_type": "stream",
     "text": [
      "\n",
      "Attaching package: ‘dplyr’\n",
      "\n",
      "The following objects are masked from ‘package:stats’:\n",
      "\n",
      "    filter, lag\n",
      "\n",
      "The following objects are masked from ‘package:base’:\n",
      "\n",
      "    intersect, setdiff, setequal, union\n",
      "\n"
     ]
    }
   ],
   "source": [
    "library(dplyr)"
   ]
  },
  {
   "cell_type": "code",
   "execution_count": 2,
   "metadata": {},
   "outputs": [
    {
     "data": {
      "text/html": [
       "<table>\n",
       "<thead><tr><th scope=col>frankfurter</th><th scope=col>sausage</th><th scope=col>liver.loaf</th><th scope=col>ham</th></tr></thead>\n",
       "<tbody>\n",
       "\t<tr><td>0</td><td>0</td><td>0</td><td>0</td></tr>\n",
       "\t<tr><td>0</td><td>0</td><td>0</td><td>0</td></tr>\n",
       "\t<tr><td>0</td><td>0</td><td>0</td><td>0</td></tr>\n",
       "\t<tr><td>0</td><td>0</td><td>0</td><td>0</td></tr>\n",
       "\t<tr><td>0</td><td>0</td><td>0</td><td>0</td></tr>\n",
       "\t<tr><td>0</td><td>0</td><td>0</td><td>0</td></tr>\n",
       "</tbody>\n",
       "</table>\n"
      ],
      "text/latex": [
       "\\begin{tabular}{r|llll}\n",
       " frankfurter & sausage & liver.loaf & ham\\\\\n",
       "\\hline\n",
       "\t 0 & 0 & 0 & 0\\\\\n",
       "\t 0 & 0 & 0 & 0\\\\\n",
       "\t 0 & 0 & 0 & 0\\\\\n",
       "\t 0 & 0 & 0 & 0\\\\\n",
       "\t 0 & 0 & 0 & 0\\\\\n",
       "\t 0 & 0 & 0 & 0\\\\\n",
       "\\end{tabular}\n"
      ],
      "text/markdown": [
       "\n",
       "frankfurter | sausage | liver.loaf | ham | \n",
       "|---|---|---|---|---|---|\n",
       "| 0 | 0 | 0 | 0 | \n",
       "| 0 | 0 | 0 | 0 | \n",
       "| 0 | 0 | 0 | 0 | \n",
       "| 0 | 0 | 0 | 0 | \n",
       "| 0 | 0 | 0 | 0 | \n",
       "| 0 | 0 | 0 | 0 | \n",
       "\n",
       "\n"
      ],
      "text/plain": [
       "  frankfurter sausage liver.loaf ham\n",
       "1 0           0       0          0  \n",
       "2 0           0       0          0  \n",
       "3 0           0       0          0  \n",
       "4 0           0       0          0  \n",
       "5 0           0       0          0  \n",
       "6 0           0       0          0  "
      ]
     },
     "metadata": {},
     "output_type": "display_data"
    }
   ],
   "source": [
    "groceries <- read.csv('https://github.com/WSU-DataScience/DSCI210_module_7_association_rules/raw/main/data/Groceries.csv')\n",
    "head(groceries[, 1:4])"
   ]
  },
  {
   "cell_type": "code",
   "execution_count": 3,
   "metadata": {},
   "outputs": [
    {
     "data": {
      "text/html": [
       "<table>\n",
       "<thead><tr><th scope=col>butter</th><th scope=col>whole.milk</th></tr></thead>\n",
       "<tbody>\n",
       "\t<tr><td>0</td><td>0</td></tr>\n",
       "\t<tr><td>0</td><td>0</td></tr>\n",
       "\t<tr><td>0</td><td>1</td></tr>\n",
       "\t<tr><td>0</td><td>0</td></tr>\n",
       "\t<tr><td>0</td><td>1</td></tr>\n",
       "\t<tr><td>1</td><td>1</td></tr>\n",
       "</tbody>\n",
       "</table>\n"
      ],
      "text/latex": [
       "\\begin{tabular}{r|ll}\n",
       " butter & whole.milk\\\\\n",
       "\\hline\n",
       "\t 0 & 0\\\\\n",
       "\t 0 & 0\\\\\n",
       "\t 0 & 1\\\\\n",
       "\t 0 & 0\\\\\n",
       "\t 0 & 1\\\\\n",
       "\t 1 & 1\\\\\n",
       "\\end{tabular}\n"
      ],
      "text/markdown": [
       "\n",
       "butter | whole.milk | \n",
       "|---|---|---|---|---|---|\n",
       "| 0 | 0 | \n",
       "| 0 | 0 | \n",
       "| 0 | 1 | \n",
       "| 0 | 0 | \n",
       "| 0 | 1 | \n",
       "| 1 | 1 | \n",
       "\n",
       "\n"
      ],
      "text/plain": [
       "  butter whole.milk\n",
       "1 0      0         \n",
       "2 0      0         \n",
       "3 0      1         \n",
       "4 0      0         \n",
       "5 0      1         \n",
       "6 1      1         "
      ]
     },
     "metadata": {},
     "output_type": "display_data"
    }
   ],
   "source": [
    "butter_milk <- groceries %>%\n",
    "                select(butter, whole.milk)\n",
    "head(butter_milk)"
   ]
  },
  {
   "cell_type": "markdown",
   "metadata": {},
   "source": [
    "#### Support(Butter): 2 steps"
   ]
  },
  {
   "cell_type": "code",
   "execution_count": 4,
   "metadata": {},
   "outputs": [
    {
     "data": {
      "text/html": [
       "<table>\n",
       "<thead><tr><th scope=col>Nbutter</th><th scope=col>support_butter</th></tr></thead>\n",
       "<tbody>\n",
       "\t<tr><td>545</td><td>545</td></tr>\n",
       "</tbody>\n",
       "</table>\n"
      ],
      "text/latex": [
       "\\begin{tabular}{r|ll}\n",
       " Nbutter & support\\_butter\\\\\n",
       "\\hline\n",
       "\t 545 & 545\\\\\n",
       "\\end{tabular}\n"
      ],
      "text/markdown": [
       "\n",
       "Nbutter | support_butter | \n",
       "|---|\n",
       "| 545 | 545 | \n",
       "\n",
       "\n"
      ],
      "text/plain": [
       "  Nbutter support_butter\n",
       "1 545     545           "
      ]
     },
     "metadata": {},
     "output_type": "display_data"
    }
   ],
   "source": [
    "butter_milk %>%\n",
    "  summarize(Nbutter = sum(butter)) %>% \n",
    "  mutate(support_butter = Nbutter/n())"
   ]
  },
  {
   "cell_type": "markdown",
   "metadata": {},
   "source": [
    "#### Support(Butter): all at once"
   ]
  },
  {
   "cell_type": "code",
   "execution_count": 5,
   "metadata": {},
   "outputs": [
    {
     "data": {
      "text/html": [
       "<table>\n",
       "<thead><tr><th scope=col>support_butter</th></tr></thead>\n",
       "<tbody>\n",
       "\t<tr><td>0.05541434</td></tr>\n",
       "</tbody>\n",
       "</table>\n"
      ],
      "text/latex": [
       "\\begin{tabular}{r|l}\n",
       " support\\_butter\\\\\n",
       "\\hline\n",
       "\t 0.05541434\\\\\n",
       "\\end{tabular}\n"
      ],
      "text/markdown": [
       "\n",
       "support_butter | \n",
       "|---|\n",
       "| 0.05541434 | \n",
       "\n",
       "\n"
      ],
      "text/plain": [
       "  support_butter\n",
       "1 0.05541434    "
      ]
     },
     "metadata": {},
     "output_type": "display_data"
    }
   ],
   "source": [
    "butter_milk %>%\n",
    "  summarize(support_butter = sum(butter)/n())"
   ]
  },
  {
   "cell_type": "markdown",
   "metadata": {},
   "source": [
    "#### Support of whole.milk"
   ]
  },
  {
   "cell_type": "code",
   "execution_count": 6,
   "metadata": {},
   "outputs": [
    {
     "data": {
      "text/html": [
       "<table>\n",
       "<thead><tr><th scope=col>support_milk</th></tr></thead>\n",
       "<tbody>\n",
       "\t<tr><td>0.255516</td></tr>\n",
       "</tbody>\n",
       "</table>\n"
      ],
      "text/latex": [
       "\\begin{tabular}{r|l}\n",
       " support\\_milk\\\\\n",
       "\\hline\n",
       "\t 0.255516\\\\\n",
       "\\end{tabular}\n"
      ],
      "text/markdown": [
       "\n",
       "support_milk | \n",
       "|---|\n",
       "| 0.255516 | \n",
       "\n",
       "\n"
      ],
      "text/plain": [
       "  support_milk\n",
       "1 0.255516    "
      ]
     },
     "metadata": {},
     "output_type": "display_data"
    }
   ],
   "source": [
    "butter_milk %>%\n",
    "  summarize(support_milk = sum(whole.milk)/n())"
   ]
  },
  {
   "cell_type": "markdown",
   "metadata": {},
   "source": [
    "#### Support of {Butter and Milk}\n",
    "\n",
    "\n",
    "Why `butter * whole.milk`? "
   ]
  },
  {
   "cell_type": "code",
   "execution_count": 7,
   "metadata": {},
   "outputs": [
    {
     "data": {
      "text/html": [
       "<table>\n",
       "<thead><tr><th scope=col>support_rule</th></tr></thead>\n",
       "<tbody>\n",
       "\t<tr><td>0.02755465</td></tr>\n",
       "</tbody>\n",
       "</table>\n"
      ],
      "text/latex": [
       "\\begin{tabular}{r|l}\n",
       " support\\_rule\\\\\n",
       "\\hline\n",
       "\t 0.02755465\\\\\n",
       "\\end{tabular}\n"
      ],
      "text/markdown": [
       "\n",
       "support_rule | \n",
       "|---|\n",
       "| 0.02755465 | \n",
       "\n",
       "\n"
      ],
      "text/plain": [
       "  support_rule\n",
       "1 0.02755465  "
      ]
     },
     "metadata": {},
     "output_type": "display_data"
    }
   ],
   "source": [
    "butter_milk %>%\n",
    "  summarize(support_rule = sum(butter*whole.milk)/n())"
   ]
  },
  {
   "cell_type": "markdown",
   "metadata": {},
   "source": [
    "#### All together now (+ confidence and lift)"
   ]
  },
  {
   "cell_type": "code",
   "execution_count": 8,
   "metadata": {},
   "outputs": [
    {
     "data": {
      "text/html": [
       "<table>\n",
       "<thead><tr><th scope=col>support_milk</th><th scope=col>support_butter</th><th scope=col>support_rule</th><th scope=col>confidence</th><th scope=col>lift</th></tr></thead>\n",
       "<tbody>\n",
       "\t<tr><td>0.255516  </td><td>0.05541434</td><td>0.02755465</td><td>0.4972477 </td><td>1.946053  </td></tr>\n",
       "</tbody>\n",
       "</table>\n"
      ],
      "text/latex": [
       "\\begin{tabular}{r|lllll}\n",
       " support\\_milk & support\\_butter & support\\_rule & confidence & lift\\\\\n",
       "\\hline\n",
       "\t 0.255516   & 0.05541434 & 0.02755465 & 0.4972477  & 1.946053  \\\\\n",
       "\\end{tabular}\n"
      ],
      "text/markdown": [
       "\n",
       "support_milk | support_butter | support_rule | confidence | lift | \n",
       "|---|\n",
       "| 0.255516   | 0.05541434 | 0.02755465 | 0.4972477  | 1.946053   | \n",
       "\n",
       "\n"
      ],
      "text/plain": [
       "  support_milk support_butter support_rule confidence lift    \n",
       "1 0.255516     0.05541434     0.02755465   0.4972477  1.946053"
      ]
     },
     "metadata": {},
     "output_type": "display_data"
    }
   ],
   "source": [
    "(groceries \n",
    " %>% summarize(support_milk = sum(whole.milk)/n(),\n",
    "               support_butter = sum(butter)/n(),\n",
    "               support_rule = sum(butter*whole.milk)/n())\n",
    " %>% mutate(confidence = support_rule/support_butter,\n",
    "            lift = confidence/support_milk))"
   ]
  },
  {
   "cell_type": "markdown",
   "metadata": {},
   "source": [
    "#### Notes\n",
    "\n",
    "* Must compute values before you use them\n",
    "    * Supports before confidence\n",
    "    * Confidence before lift"
   ]
  },
  {
   "cell_type": "markdown",
   "metadata": {},
   "source": [
    "## <font color=\"red\"> Exercise 7.3.1 </font>\n",
    "\n",
    "Compute and interpret all interesting statistics for the rule $\\{domestic\\,eggs\\}\\rightarrow\\{ham\\}$"
   ]
  },
  {
   "cell_type": "code",
   "execution_count": 9,
   "metadata": {},
   "outputs": [],
   "source": [
    "# Your code here"
   ]
  },
  {
   "cell_type": "markdown",
   "metadata": {},
   "source": [
    "> Your interpretations here"
   ]
  }
 ],
 "metadata": {
  "kernelspec": {
   "display_name": "R",
   "language": "R",
   "name": "ir"
  },
  "language_info": {
   "codemirror_mode": "r",
   "file_extension": ".r",
   "mimetype": "text/x-r-source",
   "name": "R",
   "pygments_lexer": "r",
   "version": "3.5.1"
  }
 },
 "nbformat": 4,
 "nbformat_minor": 4
}
